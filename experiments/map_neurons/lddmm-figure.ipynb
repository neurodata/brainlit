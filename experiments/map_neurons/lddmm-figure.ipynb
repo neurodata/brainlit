{
 "cells": [
  {
   "attachments": {},
   "cell_type": "markdown",
   "metadata": {},
   "source": [
    "## General"
   ]
  },
  {
   "cell_type": "code",
   "execution_count": 1,
   "metadata": {},
   "outputs": [],
   "source": [
    "from brainlit.map_neurons.map_neurons import (\n",
    "    DiffeomorphismAction,\n",
    "    transform_geometricgraph,\n",
    "    compute_derivs,\n",
    "    CloudReg_Transform,\n",
    ")\n",
    "from brainlit.algorithms.trace_analysis.fit_spline import (\n",
    "    GeometricGraph,\n",
    "    compute_parameterization,\n",
    ")\n",
    "from brainlit.utils.Neuron_trace import NeuronTrace\n",
    "\n",
    "from pathlib import Path\n",
    "import numpy as np\n",
    "import matplotlib.pyplot as plt\n",
    "from matplotlib.cm import ScalarMappable\n",
    "from mpl_toolkits.mplot3d import Axes3D\n",
    "import pandas as pd\n",
    "from scipy.ndimage import gaussian_filter\n",
    "from scipy.interpolate import splev, splprep, RegularGridInterpolator\n",
    "from scipy.spatial.distance import cosine\n",
    "from scipy.stats import wilcoxon, pearsonr, linregress, norm\n",
    "from tqdm import tqdm\n",
    "from cloudvolume import CloudVolume\n",
    "from similaritymeasures import frechet_dist\n",
    "import seaborn as sns\n",
    "from statannotations.Annotator import Annotator\n",
    "from statannot import add_stat_annotation\n",
    "from cloudvolume.exceptions import SkeletonDecodeError\n",
    "import pickle\n",
    "from copy import deepcopy\n",
    "import networkx as nx\n",
    "import os\n",
    "from skimage import io\n",
    "from matplotlib import cm\n",
    "from matplotlib.colors import ListedColormap\n",
    "from turtle import color\n",
    "from scipy.ndimage import distance_transform_edt, binary_dilation\n",
    "from joblib import Parallel, delayed\n",
    "import networkx as nx\n",
    "from brainlit.map_neurons.diffeo_gen import diffeo_gen_ara\n",
    "from brainlit.map_neurons.map_neurons import Diffeomorphism_Transform"
   ]
  },
  {
   "attachments": {},
   "cell_type": "markdown",
   "metadata": {},
   "source": [
    "## Jacobian"
   ]
  },
  {
   "attachments": {},
   "cell_type": "markdown",
   "metadata": {},
   "source": [
    "### Initialize objects"
   ]
  },
  {
   "cell_type": "code",
   "execution_count": null,
   "metadata": {},
   "outputs": [],
   "source": [
    "root_dir = Path(os.path.abspath(\"\"))\n",
    "data_dir = os.path.join(root_dir, \"data\")\n",
    "\n",
    "velocity_path = os.path.join(data_dir, \"downloop_1_v.mat\")\n",
    "affine_path = os.path.join(data_dir, \"downloop_1_A.mat\")\n",
    "\n",
    "ct = CloudReg_Transform(velocity_path, affine_path, direction=\"atlas\")\n",
    "\n",
    "ara = io.imread(\"/Users/thomasathey/Documents/mimlab/mouselight/ailey/ara/ara_10um.tif\")\n",
    "\n",
    "og_coords = ct.og_coords\n",
    "\n",
    "xmin = np.amin(og_coords[0])\n",
    "xmax = np.amax(og_coords[0])\n",
    "ymin = np.amin(og_coords[1])\n",
    "ymax = np.amax(og_coords[1])\n",
    "zmin = np.amin(og_coords[2])\n",
    "zmax = np.amax(og_coords[2])\n",
    "\n",
    "print(f\"x {xmax-xmin} y{ymax-ymin}-{ymax} z{zmax-zmin}\")"
   ]
  },
  {
   "attachments": {},
   "cell_type": "markdown",
   "metadata": {},
   "source": [
    "Range of og_coords has padding of 190microns in total"
   ]
  },
  {
   "attachments": {},
   "cell_type": "markdown",
   "metadata": {},
   "source": [
    "### Functions for plotting"
   ]
  },
  {
   "cell_type": "code",
   "execution_count": null,
   "metadata": {},
   "outputs": [],
   "source": [
    "def get_transformed_line(a, b, ct):\n",
    "    ts = np.arange(0, 1.01, 0.01)\n",
    "    line = np.zeros((len(ts), len(a)))\n",
    "    for i, t in enumerate(ts):\n",
    "        line[i, :] = a + t * (b - a)\n",
    "    new_line = ct.evaluate(line)\n",
    "    return new_line\n",
    "\n",
    "\n",
    "def get_displacements(xs, ys, zs, ct):\n",
    "    og_coords = np.meshgrid(xs, ys, zs, indexing=\"ij\")\n",
    "    og_coords = np.array(\n",
    "        [og_coords[0].flatten(), og_coords[1].flatten(), og_coords[2].flatten()]\n",
    "    ).T\n",
    "    print(f\"shp: {og_coords.shape}\")\n",
    "    new_coords = ct.evaluate(og_coords)\n",
    "    diff = new_coords - og_coords\n",
    "\n",
    "    return og_coords, diff\n",
    "\n",
    "\n",
    "def get_border(im, border_id=0):\n",
    "    if (im < 0).any():\n",
    "        raise ValueError(f\"Input image cannot have negative values\")\n",
    "    if border_id != 0:\n",
    "        im[im == 0] = -1\n",
    "        im[im == border_id] = 0\n",
    "    edt = distance_transform_edt(im)\n",
    "    edt[edt != 1] = 0\n",
    "    return edt"
   ]
  },
  {
   "attachments": {},
   "cell_type": "markdown",
   "metadata": {},
   "source": [
    "### Plot displacement field over atlas"
   ]
  },
  {
   "cell_type": "code",
   "execution_count": null,
   "metadata": {},
   "outputs": [],
   "source": [
    "slice_num = 600\n",
    "\n",
    "\n",
    "fig, ax = plt.subplots()\n",
    "\n",
    "xs = np.array([slice_num * 10 + 95])\n",
    "ys = np.arange(ymin, ymax, 1000)\n",
    "zs = np.arange(zmin, zmax, 1000)\n",
    "\n",
    "og_coords, diff = get_displacements(xs, ys, zs, ct)\n",
    "\n",
    "for y in ys:\n",
    "    a = np.array([xs[0], y, zmin])\n",
    "    b = np.array([xs[0], y, zmax])\n",
    "    new_line = get_transformed_line(a, b, ct)\n",
    "    # ax.plot(new_line[:,1], new_line[:,2], c='white')\n",
    "\n",
    "for z in zs:\n",
    "    a = np.array([xs[0], ymin, z])\n",
    "    b = np.array([xs[0], ymax, z])\n",
    "    new_line = get_transformed_line(a, b, ct)\n",
    "    # ax.plot(new_line[:,1], new_line[:,2], c='white')\n",
    "\n",
    "ax.scatter(og_coords[:, 1], og_coords[:, 2], label=\"Sample Space Grid\", c=\"black\")\n",
    "\n",
    "\n",
    "ax.quiver(\n",
    "    og_coords[:, 1],\n",
    "    og_coords[:, 2],\n",
    "    diff[:, 1],\n",
    "    diff[:, 2],\n",
    "    label=\"Scaled Displacement Field\",\n",
    "    color=\"black\",\n",
    ")\n",
    "ax.axis(\"off\")\n",
    "\n",
    "# ARA slice\n",
    "\n",
    "ara_slice = np.squeeze(ara[:, :, slice_num])\n",
    "unqs = np.unique(ara_slice)\n",
    "\n",
    "\n",
    "for i, unq in enumerate(unqs):\n",
    "    if unq != 0:\n",
    "        ara_slice[ara_slice == unq] = i\n",
    "print(ara_slice.shape)\n",
    "\n",
    "cmap = cm.get_cmap(\"tab20\")\n",
    "newcolors = cmap(np.arange(20))\n",
    "newcolors = np.repeat(newcolors, 10, 0)\n",
    "white = np.array([1, 1, 1, 1])\n",
    "newcolors[0, :] = white\n",
    "newcmp = ListedColormap(newcolors)\n",
    "ax.imshow(ara_slice.T, extent=(-8000, 8000, -5000, 5000), cmap=newcmp)"
   ]
  },
  {
   "attachments": {},
   "cell_type": "markdown",
   "metadata": {},
   "source": [
    "### Plot Jacobian over atlas border"
   ]
  },
  {
   "cell_type": "code",
   "execution_count": null,
   "metadata": {},
   "outputs": [],
   "source": [
    "z = 600\n",
    "plt.rcParams.update({\"font.size\": 28})\n",
    "\n",
    "\n",
    "fig, ax = plt.subplots(figsize=(15, 10))\n",
    "\n",
    "\n",
    "# Determinant jacobians\n",
    "xs = np.array([z])\n",
    "ys = np.arange(ymin, ymax + 1, (ymax - ymin) / 100)\n",
    "zs = np.arange(zmin, zmax + 1, (zmax - zmin) / 100)\n",
    "\n",
    "\n",
    "Xs, Ys, Zs = np.meshgrid(xs, ys, zs)\n",
    "XYZs = np.reshape(np.stack((Ys, Xs, Zs), axis=-1), newshape=(-1, 3))\n",
    "detJs = []\n",
    "\n",
    "for coord in tqdm(XYZs):\n",
    "    J = ct.Jacobian(coord)\n",
    "    detJs.append(np.log(np.linalg.det(J)))\n",
    "\n",
    "detJs = np.array(detJs)\n",
    "detJs = np.reshape(detJs, newshape=Xs.shape)\n",
    "print(detJs.shape)\n",
    "\n",
    "\n",
    "newcolors = np.array([[1, 1, 1, 0], [0, 0, 0, 1]])\n",
    "cmap_trans_white = ListedColormap(newcolors)\n",
    "\n",
    "max_abs = np.amax(np.abs(detJs))\n",
    "plt_ldjs = ax.imshow(\n",
    "    np.squeeze(detJs).T,\n",
    "    extent=(-8000, 8000, -5000, 5000),\n",
    "    cmap=\"seismic\",\n",
    "    vmin=-max_abs * 2,\n",
    "    vmax=max_abs * 2,\n",
    ")\n",
    "ax.axis(\"off\")\n",
    "# fig.colorbar(plt_ldjs, ax=ax)\n",
    "\n",
    "# Displacement\n",
    "ys = np.arange(ymin, ymax + 1, (ymax - ymin) / 8)\n",
    "zs = np.arange(zmin, zmax + 1, (zmax - zmin) / 8)\n",
    "og_coords, diff = get_displacements(xs, ys, zs, ct)\n",
    "\n",
    "ax.scatter(og_coords[:, 1], og_coords[:, 2], c=\"black\")\n",
    "\n",
    "\n",
    "ax.quiver(\n",
    "    og_coords[:, 1],\n",
    "    og_coords[:, 2],\n",
    "    diff[:, 1],\n",
    "    diff[:, 2],\n",
    "    label=\"Scaled Displacement Field\",\n",
    "    color=\"black\",\n",
    ")\n",
    "\n",
    "\n",
    "# ARA border\n",
    "\n",
    "ara_slice = np.squeeze(ara[:, :, z])\n",
    "border = get_border(ara_slice)\n",
    "border = border.T\n",
    "border = binary_dilation(border, iterations=2)\n",
    "plt_border = ax.imshow(border, extent=(-8000, 8000, -5000, 5000), cmap=cmap_trans_white)\n",
    "\n",
    "# ax.legend(loc=\"lower right\", bbox_to_anchor=(1, -0.1))\n",
    "# fig.suptitle(\"Log Jacobian Determinant of Atlas to Target Mapping\")"
   ]
  },
  {
   "attachments": {},
   "cell_type": "markdown",
   "metadata": {},
   "source": [
    "## Find max jacobian"
   ]
  },
  {
   "cell_type": "code",
   "execution_count": null,
   "metadata": {},
   "outputs": [],
   "source": [
    "import multiprocessing\n",
    "\n",
    "multiprocessing.cpu_count()"
   ]
  },
  {
   "cell_type": "code",
   "execution_count": null,
   "metadata": {},
   "outputs": [],
   "source": [
    "# Determinant jacobians\n",
    "grid = \"cust-full\"\n",
    "xmin, xmax = -1890, -250\n",
    "ymin, ymax = -2400, -1600\n",
    "zmin, zmax = 800, 2000\n",
    "if grid == \"cust-full\":\n",
    "    xs = np.arange(xmin, xmax + 1, (xmax - xmin) / 50)\n",
    "    ys = np.arange(ymin, ymax + 1, (ymax - ymin) / 50)\n",
    "    zs = np.arange(zmin, zmax + 1, (zmax - zmin) / 50)\n",
    "    Xs, Ys, Zs = np.meshgrid(xs, ys, zs)\n",
    "elif grid == \"full\":\n",
    "    Xs, Ys, Zs = og_coords[0], og_coords[1], og_coords[2]\n",
    "elif grid == \"cust-box\":\n",
    "    xmin, xmax = -1950, -250\n",
    "    ymin, ymax = -2450, -1650\n",
    "    zmin, zmax = 750, 1950\n",
    "    xs = np.arange(xmin, xmax + 1, (xmax - xmin) / 50)\n",
    "    ys = np.arange(ymin, ymax + 1, (ymax - ymin) / 50)\n",
    "    zs = np.arange(zmin, zmax + 1, (zmax - zmin) / 50)\n",
    "    Xs, Ys, Zs = np.meshgrid(xs, ys, zs)\n",
    "\n",
    "XYZs = np.reshape(np.stack((Ys, Xs, Zs), axis=-1), newshape=(-1, 3))\n",
    "norms = []\n",
    "\n",
    "\n",
    "def norm_diff(coord):\n",
    "    diff = ct.Jacobian(coord) - np.eye(3)\n",
    "\n",
    "    return np.linalg.norm(diff)\n",
    "\n",
    "\n",
    "norms = Parallel(n_jobs=10)(delayed(norm_diff)(coord) for coord in tqdm(XYZs))\n",
    "\n",
    "\n",
    "max_abs = np.amax(norms)\n",
    "\n",
    "rad = np.linalg.norm([xmax - xmin - 190, ymax - ymin - 190, zmax - zmin - 190])\n",
    "print(f\"Max |J-I|: {max_abs}, rad {rad} = {rad*max_abs}\")"
   ]
  },
  {
   "cell_type": "code",
   "execution_count": null,
   "metadata": {},
   "outputs": [],
   "source": [
    "def displacement(coord):\n",
    "    diff = ct.evaluate(coord) - coord\n",
    "\n",
    "    return np.linalg.norm(diff)\n",
    "\n",
    "\n",
    "displacements = Parallel(n_jobs=10)(delayed(norm_diff)(coord) for coord in tqdm(XYZs))\n",
    "\n",
    "max_displacement = np.amax(displacements)\n",
    "print(f\"Max |ei-ei-1|: {2*max_displacement}\")"
   ]
  },
  {
   "cell_type": "code",
   "execution_count": null,
   "metadata": {},
   "outputs": [],
   "source": [
    "xs = np.arange(0, 3000)\n",
    "ys = max_abs * xs / 2 + max_displacement\n",
    "\n",
    "print(f\"Bound: Zeroth Order Mapping Error <= {max_abs/2}L + {max_displacement} \")\n",
    "\n",
    "plt.plot(xs, ys)"
   ]
  },
  {
   "attachments": {},
   "cell_type": "markdown",
   "metadata": {},
   "source": [
    "## Spectral norms of jacobians"
   ]
  },
  {
   "cell_type": "code",
   "execution_count": null,
   "metadata": {},
   "outputs": [],
   "source": [
    "# spectral norm jacobians\n",
    "xs = np.arange(xmin, xmax + 1, (xmax - xmin) / 25)\n",
    "ys = np.arange(ymin, ymax + 1, (ymax - ymin) / 25)\n",
    "zs = np.arange(zmin, zmax + 1, (zmax - zmin) / 25)\n",
    "\n",
    "\n",
    "Xs, Ys, Zs = np.meshgrid(xs, ys, zs)\n",
    "XYZs = np.reshape(np.stack((Ys, Xs, Zs), axis=-1), newshape=(-1, 3))\n",
    "normJs = []\n",
    "\n",
    "for coord in tqdm(XYZs):\n",
    "    J = ct.Jacobian(coord)\n",
    "    normJs.append(np.linalg.norm(J))"
   ]
  },
  {
   "cell_type": "code",
   "execution_count": null,
   "metadata": {},
   "outputs": [],
   "source": [
    "plt.hist(normJs)"
   ]
  },
  {
   "cell_type": "code",
   "execution_count": null,
   "metadata": {},
   "outputs": [],
   "source": [
    "def Fx(pos):\n",
    "    pos = np.array(pos)\n",
    "    if len(pos.shape) == 1:\n",
    "        return pos[0]\n",
    "    elif len(pos.shape) == 2:\n",
    "        return pos[:, 0]\n",
    "\n",
    "\n",
    "def Fy(pos):\n",
    "    pos = np.array(pos)\n",
    "    if len(pos.shape) == 1:\n",
    "        return pos[1]\n",
    "    elif len(pos.shape) == 2:\n",
    "        return pos[:, 1]\n",
    "\n",
    "\n",
    "def Fz(pos):\n",
    "    pos = np.array(pos)\n",
    "    if len(pos.shape) == 1:\n",
    "        return pos[2]\n",
    "    elif len(pos.shape) == 2:\n",
    "        return pos[:, 2]\n",
    "\n",
    "\n",
    "og_diffeo = ct.diffeomorphism\n",
    "ct.diffeomorphism = (Fx, Fy, Fz)\n",
    "\n",
    "\n",
    "fig, ax = plt.subplots()\n",
    "\n",
    "\n",
    "# Determinant jacobians\n",
    "xs = np.array([0])\n",
    "ys = np.arange(-5, 6)\n",
    "zs = np.arange(-5, 6)\n",
    "\n",
    "\n",
    "Xs, Ys, Zs = np.meshgrid(xs, ys, zs)\n",
    "XYZs = np.reshape(np.stack((Ys, Xs, Zs), axis=-1), newshape=(-1, 3))\n",
    "detJs = []\n",
    "\n",
    "for coord in tqdm(XYZs):\n",
    "    J = ct.Jacobian(coord)\n",
    "    detJs.append(np.log(np.linalg.det(J)))\n",
    "\n",
    "detJs = np.array(detJs)\n",
    "detJs = np.reshape(detJs, newshape=Xs.shape)\n",
    "print(detJs.shape)\n",
    "\n",
    "\n",
    "newcolors = np.array([[1, 1, 1, 0], [0, 0, 0, 1]])\n",
    "cmap_trans_white = ListedColormap(newcolors)\n",
    "\n",
    "max_abs = np.amax(np.abs(detJs))\n",
    "plt_ldjs = ax.imshow(\n",
    "    np.squeeze(detJs).T,\n",
    "    extent=(-5, 5, -5, 5),\n",
    "    cmap=\"seismic\",\n",
    "    vmin=-max_abs,\n",
    "    vmax=max_abs,\n",
    ")\n",
    "ax.axis(\"off\")\n",
    "fig.colorbar(plt_ldjs, ax=ax)\n",
    "\n",
    "# Displacement\n",
    "og_coords, diff = get_displacements(xs, ys, zs, ct)\n",
    "\n",
    "ax.scatter(og_coords[:, 1], og_coords[:, 2], label=\"Sample Space Grid\", c=\"black\")\n",
    "\n",
    "\n",
    "ax.quiver(\n",
    "    og_coords[:, 1],\n",
    "    og_coords[:, 2],\n",
    "    diff[:, 1],\n",
    "    diff[:, 2],\n",
    "    label=\"Scaled Displacement Field\",\n",
    "    color=\"black\",\n",
    ")\n",
    "\n",
    "\n",
    "ct.diffeomorphism = og_diffeo"
   ]
  },
  {
   "attachments": {},
   "cell_type": "markdown",
   "metadata": {},
   "source": [
    "## Neuron Mapping"
   ]
  },
  {
   "cell_type": "code",
   "execution_count": null,
   "metadata": {},
   "outputs": [],
   "source": [
    "root_dir = Path(os.path.abspath(\"\"))\n",
    "data_dir = os.path.join(root_dir, \"data\", \"mapping-files\")"
   ]
  },
  {
   "cell_type": "code",
   "execution_count": null,
   "metadata": {},
   "outputs": [],
   "source": [
    "velocity_path = os.path.join(data_dir, \"downloop_1_v.mat\")\n",
    "affine_path = os.path.join(data_dir, \"downloop_1_A.mat\")\n",
    "\n",
    "ct = CloudReg_Transform(velocity_path, affine_path)\n",
    "\n",
    "im_path = \"precomputed://file://\" + os.path.join(data_dir, \"ch1_otsu_iso\")\n",
    "vol_im = CloudVolume(im_path)\n",
    "shp = np.array(vol_im.shape)\n",
    "res_im = np.array(vol_im.resolution) / 1000\n",
    "origin_im = (shp[:3] - 1) * res_im / 2\n",
    "\n",
    "axons_path = \"precomputed://file://\" + os.path.join(data_dir, \"axons\")\n",
    "vol = CloudVolume(axons_path)\n",
    "shp = np.array(vol.shape)\n",
    "res_atlas = np.array(vol.resolution) / 1000\n",
    "origin_atlas = (shp[:3] - 1) * res_atlas / 2"
   ]
  },
  {
   "cell_type": "code",
   "execution_count": null,
   "metadata": {},
   "outputs": [],
   "source": [
    "# 1,22; 4,179\n",
    "neuron_id = 1\n",
    "branch_id = -1\n",
    "\n",
    "# get coords in proper cooordinates\n",
    "skel = vol.skeleton.get(neuron_id)\n",
    "coords = skel.vertices / 1000 - origin_im\n",
    "\n",
    "# apply affine transform\n",
    "coords = ct.apply_affine(coords)\n",
    "\n",
    "G = GeometricGraph()\n",
    "for id, coord in enumerate(coords):\n",
    "    G.add_node(id, loc=coord)\n",
    "for edge in skel.edges:\n",
    "    G.add_edge(edge[0], edge[1])\n",
    "\n",
    "spline_tree = G.fit_spline_tree_invariant()\n",
    "\n",
    "# Target space\n",
    "\n",
    "fig = plt.figure(figsize=(18, 10), dpi=300)\n",
    "ax = fig.add_subplot(1, 2, 1, projection=\"3d\")\n",
    "\n",
    "G_transformed = deepcopy(G)\n",
    "G_transformed = transform_geometricgraph(G_transformed, ct, deriv_method=\"two-sided\")\n",
    "soma = np.array(G.nodes[G.root][\"loc\"])\n",
    "spline_tree = G.spline_tree\n",
    "\n",
    "for i, node in enumerate(tqdm(spline_tree.nodes, desc=\"Target space\")):\n",
    "    if node != branch_id and branch_id != -1:\n",
    "        continue\n",
    "    spline = spline_tree.nodes[node][\"spline\"]\n",
    "    u = spline[1]\n",
    "    tck = spline[0]\n",
    "\n",
    "    # trace points only\n",
    "    pts = splev(u, tck)\n",
    "    if i == 0 or node == branch_id:\n",
    "        label = \"Neuron Branch\"\n",
    "    else:\n",
    "        label = None\n",
    "    ax.plot(pts[0], pts[1], pts[2], linestyle=\"-\", label=label, color=\"red\")\n",
    "    derivs = splev(u, tck, der=1)\n",
    "\n",
    "# Plot displacement field\n",
    "xmin, xmax = ax.get_xlim()\n",
    "ymin, ymax = ax.get_ylim()\n",
    "zmin, zmax = ax.get_zlim()\n",
    "xs = np.arange(xmin, xmax, (xmax - xmin) / 4)\n",
    "ys = np.arange(ymin, ymax, (ymax - ymin) / 4)\n",
    "zs = np.arange(zmin, zmax, (zmax - zmin) / 4)\n",
    "\n",
    "og_coords = np.meshgrid(xs, ys, zs, indexing=\"ij\")\n",
    "og_coords = np.array(\n",
    "    [og_coords[0].flatten(), og_coords[1].flatten(), og_coords[2].flatten()]\n",
    ").T\n",
    "new_coords = ct.evaluate(og_coords)\n",
    "\n",
    "displacements = new_coords - og_coords\n",
    "ax.quiver(\n",
    "    og_coords[:, 0],\n",
    "    og_coords[:, 1],\n",
    "    og_coords[:, 2],\n",
    "    displacements[:, 0],\n",
    "    displacements[:, 1],\n",
    "    displacements[:, 2],\n",
    "    length=20,\n",
    "    label=\"Scaled Displacement Field\",\n",
    "    alpha=0.75,\n",
    ")  # length\n",
    "\n",
    "ax.w_xaxis.set_pane_color((1.0, 1.0, 1.0, 1.0))\n",
    "ax.w_yaxis.set_pane_color((1.0, 1.0, 1.0, 1.0))\n",
    "ax.w_zaxis.set_pane_color((1.0, 1.0, 1.0, 1.0))\n",
    "\n",
    "# ax.legend(fontsize=12)\n",
    "plt.axis(\"off\")\n",
    "\n",
    "ax = fig.add_subplot(1, 2, 2, projection=\"3d\")\n",
    "\n",
    "for i, node in enumerate(tqdm(spline_tree.nodes, desc=\"0th order mappings\")):\n",
    "    if node != branch_id and branch_id != -1:\n",
    "        continue\n",
    "    spline = spline_tree.nodes[node][\"spline\"]\n",
    "    u = spline[1]\n",
    "    tck = spline[0]\n",
    "    pts = splev(u, tck)\n",
    "    pts = np.stack(pts, axis=1)\n",
    "\n",
    "    # dense line points\n",
    "    tck_line, u_line = splprep(pts.T, k=1, s=0)\n",
    "    u_line = np.arange(u_line[0], u_line[-1] + 0.01, 0.01)\n",
    "    pts_line = splev(u_line, tck_line)\n",
    "    pts_line = np.stack(pts_line, axis=1)\n",
    "    trans_pts = ct.evaluate(pts_line)\n",
    "    if i == 0 or node == branch_id:\n",
    "        label = \"Continuous Mapping (Ground Truth)\"\n",
    "    else:\n",
    "        label = None\n",
    "    # ax.plot(\n",
    "    #     trans_pts[:, 0],\n",
    "    #     trans_pts[:, 1],\n",
    "    #     trans_pts[:, 2],\n",
    "    #     linestyle=\"-\",\n",
    "    #     color=\"red\",\n",
    "    #     label=label,\n",
    "    # )\n",
    "\n",
    "    # Transformed points\n",
    "    trans_pts = ct.evaluate(pts)\n",
    "    if i == 0 or node == branch_id:\n",
    "        label = \"Discrete Mapping - 0th Order\"\n",
    "    else:\n",
    "        label = None\n",
    "    # ax.plot(\n",
    "    #     trans_pts[:, 0],\n",
    "    #     trans_pts[:, 1],\n",
    "    #     trans_pts[:, 2],\n",
    "    #     linestyle=\"-\",\n",
    "    #     label=label,\n",
    "    #     color=\"blue\",\n",
    "    #     alpha=0.5,\n",
    "    # )\n",
    "    derivs = splev(u, tck, der=1)\n",
    "    derivs = np.stack(derivs, axis=1)\n",
    "    trans_derivs = ct.D(pts, derivs)\n",
    "\n",
    "# act on derivatives\n",
    "soma = np.array(G_transformed.nodes[G_transformed.root][\"loc\"])\n",
    "spline_tree = G_transformed.spline_tree\n",
    "for i, node in enumerate(tqdm(spline_tree.nodes, desc=\"1st order mappings\")):\n",
    "    if node != branch_id and branch_id != -1:\n",
    "        continue\n",
    "    spline = spline_tree.nodes[node][\"spline\"]\n",
    "    u = spline[1]\n",
    "    u = np.arange(u[0], u[-1] + 0.01, 0.01)\n",
    "    chspline = spline[0]\n",
    "    pts = chspline(u)\n",
    "\n",
    "    if i == 0 or node == branch_id:\n",
    "        label = \"Discrete Mapping - 1st Order\"\n",
    "    else:\n",
    "        label = None\n",
    "    ax.plot(pts[:, 0], pts[:, 1], pts[:, 2], linestyle=\"-\", label=label, color=\"green\")\n",
    "\n",
    "ax.w_xaxis.set_pane_color((1.0, 1.0, 1.0, 1.0))\n",
    "ax.w_yaxis.set_pane_color((1.0, 1.0, 1.0, 1.0))\n",
    "ax.w_zaxis.set_pane_color((1.0, 1.0, 1.0, 1.0))\n",
    "ax.grid(True)\n",
    "# ax.legend(fontsize=12)\n",
    "plt.axis(\"off\")\n",
    "plt.show()"
   ]
  },
  {
   "attachments": {},
   "cell_type": "markdown",
   "metadata": {},
   "source": [
    "## Soma Mapping"
   ]
  },
  {
   "attachments": {},
   "cell_type": "markdown",
   "metadata": {},
   "source": [
    "Neuroglancer coordinates: in voxels (with voxel size printed)\n",
    "\n",
    "Cloudvolume skeleton coordinates: in nanometers\n",
    "\n",
    "SWC: in microns - add offset, then subtract origin of image (in transform.txt), which is in nanometers"
   ]
  },
  {
   "cell_type": "code",
   "execution_count": null,
   "metadata": {},
   "outputs": [],
   "source": [
    "root_dir = Path(os.path.abspath(\"\"))\n",
    "data_dir = os.path.join(root_dir, \"data\", \"mapping-files\")\n",
    "swc_dir = os.path.join(data_dir, \"all-swcs\")"
   ]
  },
  {
   "cell_type": "code",
   "execution_count": null,
   "metadata": {},
   "outputs": [],
   "source": [
    "velocity_path = os.path.join(data_dir, \"downloop_1_v.mat\")\n",
    "affine_path = os.path.join(data_dir, \"downloop_1_A.mat\")\n",
    "\n",
    "ct = CloudReg_Transform(velocity_path, affine_path)\n",
    "\n",
    "im_path = \"precomputed://file://\" + os.path.join(data_dir, \"ch1_otsu_iso\")\n",
    "vol_im = CloudVolume(im_path)\n",
    "shp = np.array(vol_im.shape)\n",
    "res_im = np.array(vol_im.resolution) / 1000\n",
    "origin_im = (shp[:3] - 1) * res_im / 2\n",
    "\n",
    "axons_path = \"precomputed://file://\" + os.path.join(data_dir, \"axons\")\n",
    "vol = CloudVolume(\n",
    "    \"precomputed://https://open-neurodata.s3.amazonaws.com/ara_2016/sagittal_10um/annotation_10um_2017\"\n",
    ")\n",
    "shp = np.array(vol.shape)\n",
    "res_atlas = np.array(vol.resolution) / 1000\n",
    "origin_atlas = (shp[:3] - 1) * res_atlas / 2\n",
    "\n",
    "image_origin = np.zeros(3)\n",
    "coord_to_pos = {\"x\": 0, \"y\": 1, \"z\": 2}\n",
    "with open(os.path.join(swc_dir, \"transform.txt\")) as f:\n",
    "    for line in f.readlines():\n",
    "        if \"o\" == line[0]:\n",
    "            image_origin[coord_to_pos[line[1]]] = float(line.split(\":\")[1])\n",
    "\n",
    "image_origin /= 1000"
   ]
  },
  {
   "cell_type": "code",
   "execution_count": null,
   "metadata": {},
   "outputs": [],
   "source": [
    "file_list = os.listdir(swc_dir)\n",
    "\n",
    "soma_coords = []\n",
    "for file in file_list:\n",
    "    if \".swc\" in file:\n",
    "        trace = NeuronTrace(\n",
    "            os.path.join(swc_dir, file), rounding=False, read_offset=True\n",
    "        )\n",
    "        point = trace.df.loc[0]\n",
    "        if point[\"parent\"] >= 0:\n",
    "            print(f\"Could not find root node in {file}\")\n",
    "        else:\n",
    "            soma_coord = np.array([point[\"x\"], point[\"y\"], point[\"z\"]])\n",
    "            soma_coord = soma_coord - image_origin\n",
    "            soma_coords.append(soma_coord)\n",
    "            # print(f\"{file}: {soma_coord/[2.92,2.92,5]}\")\n",
    "soma_coords_target_microns = np.array(soma_coords)"
   ]
  },
  {
   "cell_type": "code",
   "execution_count": null,
   "metadata": {},
   "outputs": [],
   "source": []
  },
  {
   "attachments": {},
   "cell_type": "markdown",
   "metadata": {},
   "source": [
    "## What is registration"
   ]
  },
  {
   "cell_type": "code",
   "execution_count": null,
   "metadata": {},
   "outputs": [],
   "source": [
    "vol = CloudVolume(\n",
    "    \"precomputed://https://open-neurodata.s3.amazonaws.com/ara_2016/sagittal_25um/average_25um\"\n",
    ")\n",
    "im_og = np.array(vol[:, :, :])"
   ]
  },
  {
   "cell_type": "code",
   "execution_count": null,
   "metadata": {},
   "outputs": [],
   "source": [
    "d = np.arange(im_og.shape[0])\n",
    "v = np.arange(im_og.shape[1])\n",
    "h = np.arange(im_og.shape[2])\n",
    "\n",
    "image_interp = RegularGridInterpolator(\n",
    "    (d, v, h), im_og, bounds_error=False, fill_value=0\n",
    ")\n",
    "\n",
    "im_og_slice = im_og[280, :, :]\n",
    "plt.imshow(im_og_slice, cmap=\"gray\")\n",
    "print(im_og.shape)"
   ]
  },
  {
   "cell_type": "code",
   "execution_count": null,
   "metadata": {},
   "outputs": [],
   "source": [
    "im_og_slice_blur = gaussian_filter(im_og[29, :, :], sigma=15)\n",
    "# plt.imshow(im_og[70, :, :], cmap='gray')\n",
    "plt.imshow(im_og_slice_blur, cmap=\"gray\")"
   ]
  },
  {
   "cell_type": "code",
   "execution_count": null,
   "metadata": {},
   "outputs": [],
   "source": [
    "# x is vertical component, y is horizontal\n",
    "def deformation(h_atlas, v_atlas):\n",
    "    y_disp = (\n",
    "        np.exp(-1 * v_atlas / 200) * np.exp(-1 * (h_atlas - 228) ** 2 / 10000) * 100\n",
    "    )\n",
    "    return y_disp\n",
    "\n",
    "\n",
    "k = 70\n",
    "c2 = 0.01\n",
    "m = 228\n",
    "c1 = 0.0005\n",
    "\n",
    "\n",
    "def deformation(h_atlas, v_atlas):\n",
    "    v_target = v_atlas + k / (c2 * v_atlas + c1 * (h_atlas - m) ** 2 + 1)\n",
    "    return v_target - v_atlas\n",
    "\n",
    "\n",
    "def deform_inv(h_target, v_target):\n",
    "    h_atlas = h_target\n",
    "    c_combine = 1 + c1 * (h_atlas - m) ** 2\n",
    "    b = c_combine - v_target * c2\n",
    "    c = k - v_target * c_combine\n",
    "    a = c2\n",
    "    disc = b**2 - 4 * a * c\n",
    "    v_atlas = (-b + np.sqrt(disc)) / (2 * a)\n",
    "\n",
    "    return v_target - v_atlas\n",
    "\n",
    "\n",
    "k = 50\n",
    "f = 1 / 50\n",
    "\n",
    "\n",
    "def deformation(h_atlas, v_atlas):\n",
    "    v_target = v_atlas + k * np.sin(f * h_atlas) * np.exp(\n",
    "        -((h_atlas - 300) ** 2) / 20000\n",
    "    )\n",
    "    return v_target - v_atlas\n",
    "\n",
    "\n",
    "def deform_inv(h_target, v_target):\n",
    "    h_atlas = h_target\n",
    "    v_atlas = v_target - k * np.sin(f * h_atlas) * np.exp(\n",
    "        -((h_atlas - 300) ** 2) / 20000\n",
    "    )\n",
    "\n",
    "    return v_target - v_atlas\n",
    "\n",
    "\n",
    "print(deformation(228, 0))\n",
    "deform_inv(228, 0 + deformation(228, 0))"
   ]
  },
  {
   "cell_type": "code",
   "execution_count": null,
   "metadata": {},
   "outputs": [],
   "source": [
    "v_mat, h_mat = np.meshgrid(\n",
    "    np.arange(0, im_og.shape[1], im_og.shape[1] / 11),\n",
    "    np.arange(0, im_og.shape[2], im_og.shape[2] / 11),\n",
    ")\n",
    "v_flat = np.reshape(v_mat, (-1, 1))\n",
    "h_flat = np.reshape(h_mat, (-1, 1))\n",
    "y_displacements = deformation(h_flat, v_flat)\n",
    "y_displacements = np.reshape(y_displacements, v_mat.shape)\n",
    "\n",
    "plt.imshow(im_og[280, :, :], cmap=\"gray\")\n",
    "plt.quiver(\n",
    "    h_mat,\n",
    "    v_mat,\n",
    "    0 * y_displacements,\n",
    "    -y_displacements,\n",
    "    scale=1,\n",
    "    scale_units=\"x\",\n",
    "    facecolor=\"red\",\n",
    ")"
   ]
  },
  {
   "cell_type": "code",
   "execution_count": null,
   "metadata": {},
   "outputs": [],
   "source": [
    "v_mat, h_mat, d_mat = np.meshgrid(v, h, d)\n",
    "\n",
    "print(v_mat.shape)\n",
    "v_flat = np.reshape(v_mat, (-1))\n",
    "h_flat = np.reshape(h_mat, (-1))\n",
    "d_flat = np.reshape(d_mat, (-1))\n",
    "\n",
    "v_displacements = deformation(h_flat, v_flat)\n",
    "new_v = v_flat - v_displacements"
   ]
  },
  {
   "cell_type": "code",
   "execution_count": null,
   "metadata": {},
   "outputs": [],
   "source": [
    "points = np.stack([d_flat, new_v, h_flat], axis=1)\n",
    "new_im_flat = image_interp(points)\n",
    "new_im = np.reshape(new_im_flat, v_mat.shape)\n",
    "new_im = np.swapaxes(new_im, 0, -1)\n",
    "new_im = new_im.astype(\"uint16\")\n",
    "plt.imshow(new_im[280, :, :], cmap=\"gray\")"
   ]
  },
  {
   "cell_type": "code",
   "execution_count": null,
   "metadata": {},
   "outputs": [],
   "source": [
    "v_mat, h_mat = np.meshgrid(\n",
    "    np.arange(0, im_og.shape[1] + 1, im_og.shape[1] / 11),\n",
    "    np.arange(0, im_og.shape[2] + 1, im_og.shape[2] / 11),\n",
    ")\n",
    "v_flat = np.reshape(v_mat, (-1, 1))\n",
    "h_flat = np.reshape(h_mat, (-1, 1))\n",
    "y_displacements = deform_inv(h_flat, v_flat)\n",
    "y_displacements = np.reshape(y_displacements, v_mat.shape)\n",
    "\n",
    "print(v_flat.shape)\n",
    "\n",
    "fig = plt.figure(figsize=(10, 10))\n",
    "plt.imshow(im_og[280, :, :], cmap=\"gray\")\n",
    "for row in np.arange(y_displacements.shape[0]):\n",
    "    xs = h_mat[:, row]\n",
    "    ys = v_mat[:, row] - y_displacements[:, row]\n",
    "    plt.plot(xs, ys, c=\"red\")\n",
    "for col in np.arange(y_displacements.shape[0]):\n",
    "    xs = h_mat[col, :]\n",
    "    ys = v_mat[col, :]\n",
    "    plt.plot(xs, ys, c=\"red\")"
   ]
  },
  {
   "attachments": {},
   "cell_type": "markdown",
   "metadata": {},
   "source": [
    "## Techniques"
   ]
  },
  {
   "cell_type": "code",
   "execution_count": 6,
   "metadata": {},
   "outputs": [],
   "source": [
    "tools = [\n",
    "    \"Generative Diffeomorphic Mapping\",\n",
    "    \"mBrainAligner\",\n",
    "    \"Multiscale Varifold LDDMM\",\n",
    "    \"ANTs\",\n",
    "    \"CloudReg\",\n",
    "    \"Elastix\",\n",
    "    \"Custom MATLAB scripts\",\n",
    "    \"quickNII/Visualign\",\n",
    "    \"TissueCyte\",\n",
    "    \"Connection Lens/AlignTK\",\n",
    "    \"nTracer2\",\n",
    "]\n",
    "models = [\n",
    "    \"Affine\",\n",
    "    \"Polynomial\",\n",
    "    \"Spline\",\n",
    "    \"Elastic\",\n",
    "    \"Manual Pinning of Points\",\n",
    "    \"LDDMM\",\n",
    "    \"Piecewise Linear\",\n",
    "]\n",
    "metrics = [\n",
    "    \"Squared Error (SE)\",\n",
    "    \"SE with contrast change\",\n",
    "    \"Landmark SE\",\n",
    "    \"Varifold norm\",\n",
    "    \"Correlation\",\n",
    "    \"Mutual information\",\n",
    "    \"Manual placement\",\n",
    "]\n",
    "\n",
    "tools_models_edges = [\n",
    "    (\"Generative Diffeomorphic Mapping\", \"Affine\"),\n",
    "    (\"Generative Diffeomorphic Mapping\", \"LDDMM\"),\n",
    "    (\"Elastix\", \"Affine\"),\n",
    "    (\"Elastix\", \"Spline\"),\n",
    "    (\"CloudReg\", \"Affine\"),\n",
    "    (\"CloudReg\", \"LDDMM\"),\n",
    "    (\"mBrainAligner\", \"Spline\"),\n",
    "    (\"ANTs\", \"Affine\"),\n",
    "    (\"ANTs\", \"Spline\"),\n",
    "    (\"ANTs\", \"LDDMM\"),\n",
    "    (\"TissueCyte\", \"Affine\"),\n",
    "    (\"quickNII/Visualign\", \"Affine\"),\n",
    "    (\"Custom MATLAB scripts\", \"Affine\"),\n",
    "    (\"Custom MATLAB scripts\", \"Polynomial\"),\n",
    "    (\"Custom MATLAB scripts\", \"Spline\"),\n",
    "    (\"Multiscale Varifold LDDMM\", \"LDDMM\"),\n",
    "    (\"Connection Lens/AlignTK\", \"Piecewise Linear\"),\n",
    "    (\"nTracer2\", \"Affine\"),\n",
    "    (\"nTracer2\", \"Spline\"),\n",
    "]\n",
    "tools_metrics_edges = [\n",
    "    (\"Generative Diffeomorphic Mapping\", \"SE with contrast change\"),\n",
    "    (\"Elastix\", \"Mutual information\"),\n",
    "    (\"Elastix\", \"Correlation\"),\n",
    "    (\"Elastix\", \"Squared Error (SE)\"),\n",
    "    (\"CloudReg\", \"SE with contrast change\"),\n",
    "    (\"mBrainAligner\", \"Squared Error (SE)\"),\n",
    "    (\"mBrainAligner\", \"Correlation\"),\n",
    "    (\"mBrainAligner\", \"Mutual information\"),\n",
    "    (\"quickNII/Visualign\", \"Correlation\"),\n",
    "    (\"quickNII/Visualign\", \"Manual placement\"),\n",
    "    (\"Multiscale Varifold LDDMM\", \"Varifold norm\"),\n",
    "    (\"ANTs\", \"Squared Error (SE)\"),\n",
    "    (\"ANTs\", \"Correlation\"),\n",
    "    (\"ANTs\", \"Mutual information\"),\n",
    "    (\"Custom MATLAB scripts\", \"Squared Error (SE)\"),\n",
    "    (\"Custom MATLAB scripts\", \"Mutual information\"),\n",
    "    (\"Connection Lens/AlignTK\", \"Correlation\"),\n",
    "    (\"nTracer2\", \"Squared Error (SE)\"),\n",
    "    (\"nTracer2\", \"Mutual information\"),\n",
    "]"
   ]
  },
  {
   "cell_type": "code",
   "execution_count": 7,
   "metadata": {},
   "outputs": [],
   "source": [
    "BG = nx.Graph()\n",
    "BG.add_nodes_from(models)\n",
    "BG.add_nodes_from(tools)\n",
    "BG.add_nodes_from(metrics)\n",
    "\n",
    "BG.add_edges_from(tools_models_edges)\n",
    "BG.add_edges_from(tools_metrics_edges)\n",
    "\n",
    "pos = dict()\n",
    "factor = 12\n",
    "middle_vert_pos = [factor * (len(tools) - i) for i in range(len(tools))]\n",
    "middle_vert_pos = [\n",
    "    p + 2 * factor if i < 4 else p for i, p in enumerate(middle_vert_pos)\n",
    "]\n",
    "middle_max = np.amax(middle_vert_pos)\n",
    "\n",
    "models_shift = (middle_max - factor * (len(models) - 1)) / 2\n",
    "pos.update(\n",
    "    (n, (1, factor * (len(models) - i) + models_shift)) for i, n in enumerate(models)\n",
    ")\n",
    "pos.update((n, (2, p)) for n, p in zip(tools, middle_vert_pos))\n",
    "metrics_shift = (middle_max - factor * (len(metrics) - 1)) / 2\n",
    "pos.update(\n",
    "    (n, (3, factor * (len(metrics) - i) + metrics_shift)) for i, n in enumerate(metrics)\n",
    ")\n",
    "\n",
    "fig, ax = plt.subplots(figsize=(12, 10))\n",
    "labels = nx.draw_networkx_labels(\n",
    "    BG, pos=pos, verticalalignment=\"center\", bbox=dict(facecolor=\"white\"), clip_on=False\n",
    ")\n",
    "nx.draw(BG, pos=pos, ax=ax, node_size=200, node_shape=\"s\")"
   ]
  },
  {
   "cell_type": "markdown",
   "metadata": {},
   "source": [
    "### Citations\n",
    "ntracer2 - ntracer2 is a platform which combines elastix, ants, and open3d affine stuff (excluded for clarify), add ntracer2 in the text?\n",
    "\n",
    "generative diffeomorphic mapping - daniel citation - Tward D, Brown T, Kageyama Y, Patel J, Hou Z, Mori S, Albert M, Troncoso J, Miller M. Diffeomorphic registration with intensity transformation and missing data: Application to 3D digital pathology of Alzheimer's disease. Frontiers in neuroscience. 2020 Feb 11;14:52.\n",
    "Tward D, Li X, Huo B, Lee B, Miller MI, Mitra PP. Solving the where problem in neuroanatomy: a generative framework with learned mappings to register multimodal, incomplete data into a reference brain. bioRxiv. 2020 Mar 23:2020-03.\n",
    "\n",
    "multiscale varifold lddmm - https://arxiv.org/pdf/2208.08376.pdf\n",
    "\n",
    "cloudreg - https://www.nature.com/articles/s41592-021-01218-z - done\n",
    "\n",
    "mbrainaligner - https://academic.oup.com/bioinformatics/article/38/19/4654/6661343 Hanchuan - done\n",
    "\n",
    "ANTS - http://stnava.github.io/ANTs/ - done\n",
    "\n",
    "elastix - https://pubmed.ncbi.nlm.nih.gov/19923044/ - done\n",
    "\n",
    "matlab - https://www.mathworks.com/matlabcentral/answers/414438-how-do-i-cite-matlab-in-a-bibliography-or-a-published-journal#:~:text=Citing%20MATLAB%20software%3A&text=Citation%20in%20Vancouver%20style%3A,The%20MathWorks%20Inc.%3B%202022. https://www.mathworks.com/help/images/ref/imregister.html#d124e180774\n",
    "\n",
    "quickNII/Visualign - https://journals.plos.org/plosone/article?id=10.1371/journal.pone.0216796 https://www.nitrc.org/projects/visualign\n",
    "\n",
    "tissuecyte - cite software https://www.tissuevision.com/approach\n",
    "\n",
    "ConnectionLens/AlignTK - https://www.nature.com/articles/s41467-021-22915-5 dong -> greg hood done (https://mmbios.pitt.edu/aligntk-home)\n"
   ]
  },
  {
   "cell_type": "code",
   "execution_count": 8,
   "metadata": {},
   "outputs": [],
   "source": [
    "# tools_metrics_edges += (\"Matlab\", \"Landmark SSE\")\n",
    "\n",
    "metrics += [\"Unknown metric\"]\n",
    "models += [\"Unknown model\"]\n",
    "tools_metrics_edges += [(tool, metrics[-1]) for tool in [\"TissueCyte\"]]"
   ]
  },
  {
   "cell_type": "code",
   "execution_count": 12,
   "metadata": {},
   "outputs": [
    {
     "data": {
      "application/vnd.plotly.v1+json": {
       "config": {
        "plotlyServerURL": "https://plot.ly"
       },
       "data": [
        {
         "link": {
          "color": [
           "mistyrose",
           "mistyrose",
           "powderblue",
           "powderblue",
           "aquamarine",
           "aquamarine",
           "moccasin",
           "palegreen",
           "palegreen",
           "palegreen",
           "orchid",
           "thistle",
           "cyan",
           "cyan",
           "cyan",
           "khaki",
           "goldenrod",
           "silver",
           "silver",
           "mistyrose",
           "powderblue",
           "powderblue",
           "powderblue",
           "aquamarine",
           "moccasin",
           "moccasin",
           "moccasin",
           "thistle",
           "thistle",
           "khaki",
           "palegreen",
           "palegreen",
           "palegreen",
           "cyan",
           "cyan",
           "goldenrod",
           "silver",
           "silver",
           "orchid"
          ],
          "source": [
           11,
           16,
           11,
           13,
           11,
           16,
           13,
           11,
           13,
           16,
           11,
           11,
           11,
           12,
           13,
           16,
           17,
           11,
           13,
           0,
           5,
           5,
           5,
           4,
           1,
           1,
           1,
           7,
           7,
           2,
           3,
           3,
           3,
           6,
           6,
           9,
           10,
           10,
           8
          ],
          "target": [
           0,
           0,
           5,
           5,
           4,
           4,
           1,
           3,
           3,
           3,
           8,
           7,
           6,
           6,
           6,
           2,
           9,
           10,
           10,
           20,
           24,
           23,
           19,
           20,
           19,
           23,
           24,
           23,
           25,
           22,
           19,
           23,
           24,
           19,
           24,
           23,
           19,
           24,
           26
          ],
          "value": [
           1,
           1,
           1,
           1,
           1,
           1,
           1,
           1,
           1,
           1,
           1,
           1,
           1,
           1,
           1,
           1,
           1,
           1,
           1,
           1,
           1,
           1,
           1,
           1,
           1,
           1,
           1,
           1,
           1,
           1,
           1,
           1,
           1,
           1,
           1,
           1,
           1,
           1,
           1
          ]
         },
         "node": {
          "color": [
           "mistyrose",
           "moccasin",
           "khaki",
           "palegreen",
           "aquamarine",
           "powderblue",
           "cyan",
           "thistle",
           "orchid",
           "goldenrod",
           "silver",
           "black",
           "black",
           "black",
           "black",
           "black",
           "black",
           "black",
           "black",
           "black",
           "black",
           "black",
           "black",
           "black",
           "black",
           "black",
           "black"
          ],
          "label": [
           "Generative Diffeomorphic Mapping",
           "mBrainAligner",
           "Multiscale Varifold LDDMM",
           "ANTs",
           "CloudReg",
           "Elastix",
           "Custom MATLAB scripts",
           "quickNII/Visualign",
           "TissueCyte",
           "Connection Lens/AlignTK",
           "nTracer2",
           "Affine",
           "Polynomial",
           "Spline",
           "Elastic",
           "Manual Pinning of Points",
           "LDDMM",
           "Piecewise Linear",
           "Unknown model",
           "Squared Error (SE)",
           "SE with contrast change",
           "Landmark SE",
           "Varifold norm",
           "Correlation",
           "Mutual information",
           "Manual placement",
           "Unknown metric"
          ],
          "line": {
           "color": "black",
           "width": 0.5
          },
          "pad": 15,
          "thickness": 20
         },
         "type": "sankey"
        }
       ],
       "layout": {
        "font": {
         "size": 24
        },
        "height": 1000,
        "template": {
         "data": {
          "bar": [
           {
            "error_x": {
             "color": "#2a3f5f"
            },
            "error_y": {
             "color": "#2a3f5f"
            },
            "marker": {
             "line": {
              "color": "#E5ECF6",
              "width": 0.5
             },
             "pattern": {
              "fillmode": "overlay",
              "size": 10,
              "solidity": 0.2
             }
            },
            "type": "bar"
           }
          ],
          "barpolar": [
           {
            "marker": {
             "line": {
              "color": "#E5ECF6",
              "width": 0.5
             },
             "pattern": {
              "fillmode": "overlay",
              "size": 10,
              "solidity": 0.2
             }
            },
            "type": "barpolar"
           }
          ],
          "carpet": [
           {
            "aaxis": {
             "endlinecolor": "#2a3f5f",
             "gridcolor": "white",
             "linecolor": "white",
             "minorgridcolor": "white",
             "startlinecolor": "#2a3f5f"
            },
            "baxis": {
             "endlinecolor": "#2a3f5f",
             "gridcolor": "white",
             "linecolor": "white",
             "minorgridcolor": "white",
             "startlinecolor": "#2a3f5f"
            },
            "type": "carpet"
           }
          ],
          "choropleth": [
           {
            "colorbar": {
             "outlinewidth": 0,
             "ticks": ""
            },
            "type": "choropleth"
           }
          ],
          "contour": [
           {
            "colorbar": {
             "outlinewidth": 0,
             "ticks": ""
            },
            "colorscale": [
             [
              0,
              "#0d0887"
             ],
             [
              0.1111111111111111,
              "#46039f"
             ],
             [
              0.2222222222222222,
              "#7201a8"
             ],
             [
              0.3333333333333333,
              "#9c179e"
             ],
             [
              0.4444444444444444,
              "#bd3786"
             ],
             [
              0.5555555555555556,
              "#d8576b"
             ],
             [
              0.6666666666666666,
              "#ed7953"
             ],
             [
              0.7777777777777778,
              "#fb9f3a"
             ],
             [
              0.8888888888888888,
              "#fdca26"
             ],
             [
              1,
              "#f0f921"
             ]
            ],
            "type": "contour"
           }
          ],
          "contourcarpet": [
           {
            "colorbar": {
             "outlinewidth": 0,
             "ticks": ""
            },
            "type": "contourcarpet"
           }
          ],
          "heatmap": [
           {
            "colorbar": {
             "outlinewidth": 0,
             "ticks": ""
            },
            "colorscale": [
             [
              0,
              "#0d0887"
             ],
             [
              0.1111111111111111,
              "#46039f"
             ],
             [
              0.2222222222222222,
              "#7201a8"
             ],
             [
              0.3333333333333333,
              "#9c179e"
             ],
             [
              0.4444444444444444,
              "#bd3786"
             ],
             [
              0.5555555555555556,
              "#d8576b"
             ],
             [
              0.6666666666666666,
              "#ed7953"
             ],
             [
              0.7777777777777778,
              "#fb9f3a"
             ],
             [
              0.8888888888888888,
              "#fdca26"
             ],
             [
              1,
              "#f0f921"
             ]
            ],
            "type": "heatmap"
           }
          ],
          "heatmapgl": [
           {
            "colorbar": {
             "outlinewidth": 0,
             "ticks": ""
            },
            "colorscale": [
             [
              0,
              "#0d0887"
             ],
             [
              0.1111111111111111,
              "#46039f"
             ],
             [
              0.2222222222222222,
              "#7201a8"
             ],
             [
              0.3333333333333333,
              "#9c179e"
             ],
             [
              0.4444444444444444,
              "#bd3786"
             ],
             [
              0.5555555555555556,
              "#d8576b"
             ],
             [
              0.6666666666666666,
              "#ed7953"
             ],
             [
              0.7777777777777778,
              "#fb9f3a"
             ],
             [
              0.8888888888888888,
              "#fdca26"
             ],
             [
              1,
              "#f0f921"
             ]
            ],
            "type": "heatmapgl"
           }
          ],
          "histogram": [
           {
            "marker": {
             "pattern": {
              "fillmode": "overlay",
              "size": 10,
              "solidity": 0.2
             }
            },
            "type": "histogram"
           }
          ],
          "histogram2d": [
           {
            "colorbar": {
             "outlinewidth": 0,
             "ticks": ""
            },
            "colorscale": [
             [
              0,
              "#0d0887"
             ],
             [
              0.1111111111111111,
              "#46039f"
             ],
             [
              0.2222222222222222,
              "#7201a8"
             ],
             [
              0.3333333333333333,
              "#9c179e"
             ],
             [
              0.4444444444444444,
              "#bd3786"
             ],
             [
              0.5555555555555556,
              "#d8576b"
             ],
             [
              0.6666666666666666,
              "#ed7953"
             ],
             [
              0.7777777777777778,
              "#fb9f3a"
             ],
             [
              0.8888888888888888,
              "#fdca26"
             ],
             [
              1,
              "#f0f921"
             ]
            ],
            "type": "histogram2d"
           }
          ],
          "histogram2dcontour": [
           {
            "colorbar": {
             "outlinewidth": 0,
             "ticks": ""
            },
            "colorscale": [
             [
              0,
              "#0d0887"
             ],
             [
              0.1111111111111111,
              "#46039f"
             ],
             [
              0.2222222222222222,
              "#7201a8"
             ],
             [
              0.3333333333333333,
              "#9c179e"
             ],
             [
              0.4444444444444444,
              "#bd3786"
             ],
             [
              0.5555555555555556,
              "#d8576b"
             ],
             [
              0.6666666666666666,
              "#ed7953"
             ],
             [
              0.7777777777777778,
              "#fb9f3a"
             ],
             [
              0.8888888888888888,
              "#fdca26"
             ],
             [
              1,
              "#f0f921"
             ]
            ],
            "type": "histogram2dcontour"
           }
          ],
          "mesh3d": [
           {
            "colorbar": {
             "outlinewidth": 0,
             "ticks": ""
            },
            "type": "mesh3d"
           }
          ],
          "parcoords": [
           {
            "line": {
             "colorbar": {
              "outlinewidth": 0,
              "ticks": ""
             }
            },
            "type": "parcoords"
           }
          ],
          "pie": [
           {
            "automargin": true,
            "type": "pie"
           }
          ],
          "scatter": [
           {
            "fillpattern": {
             "fillmode": "overlay",
             "size": 10,
             "solidity": 0.2
            },
            "type": "scatter"
           }
          ],
          "scatter3d": [
           {
            "line": {
             "colorbar": {
              "outlinewidth": 0,
              "ticks": ""
             }
            },
            "marker": {
             "colorbar": {
              "outlinewidth": 0,
              "ticks": ""
             }
            },
            "type": "scatter3d"
           }
          ],
          "scattercarpet": [
           {
            "marker": {
             "colorbar": {
              "outlinewidth": 0,
              "ticks": ""
             }
            },
            "type": "scattercarpet"
           }
          ],
          "scattergeo": [
           {
            "marker": {
             "colorbar": {
              "outlinewidth": 0,
              "ticks": ""
             }
            },
            "type": "scattergeo"
           }
          ],
          "scattergl": [
           {
            "marker": {
             "colorbar": {
              "outlinewidth": 0,
              "ticks": ""
             }
            },
            "type": "scattergl"
           }
          ],
          "scattermapbox": [
           {
            "marker": {
             "colorbar": {
              "outlinewidth": 0,
              "ticks": ""
             }
            },
            "type": "scattermapbox"
           }
          ],
          "scatterpolar": [
           {
            "marker": {
             "colorbar": {
              "outlinewidth": 0,
              "ticks": ""
             }
            },
            "type": "scatterpolar"
           }
          ],
          "scatterpolargl": [
           {
            "marker": {
             "colorbar": {
              "outlinewidth": 0,
              "ticks": ""
             }
            },
            "type": "scatterpolargl"
           }
          ],
          "scatterternary": [
           {
            "marker": {
             "colorbar": {
              "outlinewidth": 0,
              "ticks": ""
             }
            },
            "type": "scatterternary"
           }
          ],
          "surface": [
           {
            "colorbar": {
             "outlinewidth": 0,
             "ticks": ""
            },
            "colorscale": [
             [
              0,
              "#0d0887"
             ],
             [
              0.1111111111111111,
              "#46039f"
             ],
             [
              0.2222222222222222,
              "#7201a8"
             ],
             [
              0.3333333333333333,
              "#9c179e"
             ],
             [
              0.4444444444444444,
              "#bd3786"
             ],
             [
              0.5555555555555556,
              "#d8576b"
             ],
             [
              0.6666666666666666,
              "#ed7953"
             ],
             [
              0.7777777777777778,
              "#fb9f3a"
             ],
             [
              0.8888888888888888,
              "#fdca26"
             ],
             [
              1,
              "#f0f921"
             ]
            ],
            "type": "surface"
           }
          ],
          "table": [
           {
            "cells": {
             "fill": {
              "color": "#EBF0F8"
             },
             "line": {
              "color": "white"
             }
            },
            "header": {
             "fill": {
              "color": "#C8D4E3"
             },
             "line": {
              "color": "white"
             }
            },
            "type": "table"
           }
          ]
         },
         "layout": {
          "annotationdefaults": {
           "arrowcolor": "#2a3f5f",
           "arrowhead": 0,
           "arrowwidth": 1
          },
          "autotypenumbers": "strict",
          "coloraxis": {
           "colorbar": {
            "outlinewidth": 0,
            "ticks": ""
           }
          },
          "colorscale": {
           "diverging": [
            [
             0,
             "#8e0152"
            ],
            [
             0.1,
             "#c51b7d"
            ],
            [
             0.2,
             "#de77ae"
            ],
            [
             0.3,
             "#f1b6da"
            ],
            [
             0.4,
             "#fde0ef"
            ],
            [
             0.5,
             "#f7f7f7"
            ],
            [
             0.6,
             "#e6f5d0"
            ],
            [
             0.7,
             "#b8e186"
            ],
            [
             0.8,
             "#7fbc41"
            ],
            [
             0.9,
             "#4d9221"
            ],
            [
             1,
             "#276419"
            ]
           ],
           "sequential": [
            [
             0,
             "#0d0887"
            ],
            [
             0.1111111111111111,
             "#46039f"
            ],
            [
             0.2222222222222222,
             "#7201a8"
            ],
            [
             0.3333333333333333,
             "#9c179e"
            ],
            [
             0.4444444444444444,
             "#bd3786"
            ],
            [
             0.5555555555555556,
             "#d8576b"
            ],
            [
             0.6666666666666666,
             "#ed7953"
            ],
            [
             0.7777777777777778,
             "#fb9f3a"
            ],
            [
             0.8888888888888888,
             "#fdca26"
            ],
            [
             1,
             "#f0f921"
            ]
           ],
           "sequentialminus": [
            [
             0,
             "#0d0887"
            ],
            [
             0.1111111111111111,
             "#46039f"
            ],
            [
             0.2222222222222222,
             "#7201a8"
            ],
            [
             0.3333333333333333,
             "#9c179e"
            ],
            [
             0.4444444444444444,
             "#bd3786"
            ],
            [
             0.5555555555555556,
             "#d8576b"
            ],
            [
             0.6666666666666666,
             "#ed7953"
            ],
            [
             0.7777777777777778,
             "#fb9f3a"
            ],
            [
             0.8888888888888888,
             "#fdca26"
            ],
            [
             1,
             "#f0f921"
            ]
           ]
          },
          "colorway": [
           "#636efa",
           "#EF553B",
           "#00cc96",
           "#ab63fa",
           "#FFA15A",
           "#19d3f3",
           "#FF6692",
           "#B6E880",
           "#FF97FF",
           "#FECB52"
          ],
          "font": {
           "color": "#2a3f5f"
          },
          "geo": {
           "bgcolor": "white",
           "lakecolor": "white",
           "landcolor": "#E5ECF6",
           "showlakes": true,
           "showland": true,
           "subunitcolor": "white"
          },
          "hoverlabel": {
           "align": "left"
          },
          "hovermode": "closest",
          "mapbox": {
           "style": "light"
          },
          "paper_bgcolor": "white",
          "plot_bgcolor": "#E5ECF6",
          "polar": {
           "angularaxis": {
            "gridcolor": "white",
            "linecolor": "white",
            "ticks": ""
           },
           "bgcolor": "#E5ECF6",
           "radialaxis": {
            "gridcolor": "white",
            "linecolor": "white",
            "ticks": ""
           }
          },
          "scene": {
           "xaxis": {
            "backgroundcolor": "#E5ECF6",
            "gridcolor": "white",
            "gridwidth": 2,
            "linecolor": "white",
            "showbackground": true,
            "ticks": "",
            "zerolinecolor": "white"
           },
           "yaxis": {
            "backgroundcolor": "#E5ECF6",
            "gridcolor": "white",
            "gridwidth": 2,
            "linecolor": "white",
            "showbackground": true,
            "ticks": "",
            "zerolinecolor": "white"
           },
           "zaxis": {
            "backgroundcolor": "#E5ECF6",
            "gridcolor": "white",
            "gridwidth": 2,
            "linecolor": "white",
            "showbackground": true,
            "ticks": "",
            "zerolinecolor": "white"
           }
          },
          "shapedefaults": {
           "line": {
            "color": "#2a3f5f"
           }
          },
          "ternary": {
           "aaxis": {
            "gridcolor": "white",
            "linecolor": "white",
            "ticks": ""
           },
           "baxis": {
            "gridcolor": "white",
            "linecolor": "white",
            "ticks": ""
           },
           "bgcolor": "#E5ECF6",
           "caxis": {
            "gridcolor": "white",
            "linecolor": "white",
            "ticks": ""
           }
          },
          "title": {
           "x": 0.05
          },
          "xaxis": {
           "automargin": true,
           "gridcolor": "white",
           "linecolor": "white",
           "ticks": "",
           "title": {
            "standoff": 15
           },
           "zerolinecolor": "white",
           "zerolinewidth": 2
          },
          "yaxis": {
           "automargin": true,
           "gridcolor": "white",
           "linecolor": "white",
           "ticks": "",
           "title": {
            "standoff": 15
           },
           "zerolinecolor": "white",
           "zerolinewidth": 2
          }
         }
        },
        "width": 1150
       }
      }
     },
     "metadata": {},
     "output_type": "display_data"
    }
   ],
   "source": [
    "import plotly.graph_objects as go\n",
    "\n",
    "labels = tools + models + metrics\n",
    "\n",
    "\n",
    "xs = [0.35 for t in tools] + [0.02 for m in models] + [0.9 for m in metrics]\n",
    "ys = (\n",
    "    list(np.arange(0.1, 0.09 * (len(tools) + 1), 0.09))\n",
    "    + list(np.arange(0.1, 0.09 * (len(models) + 1), 0.09))\n",
    "    + list(np.arange(0.1, 0.09 * (1 + len(metrics)), 0.09))\n",
    ")\n",
    "\n",
    "color = [\n",
    "    \"mistyrose\",\n",
    "    \"moccasin\",\n",
    "    \"khaki\",\n",
    "    \"palegreen\",\n",
    "    \"aquamarine\",\n",
    "    \"powderblue\",\n",
    "    \"cyan\",\n",
    "    \"thistle\",\n",
    "    \"orchid\",\n",
    "    \"goldenrod\",\n",
    "    \"silver\",\n",
    "]\n",
    "tool2color = {k: v for (k, v) in zip(tools, color)}\n",
    "color += [\"black\" for t in models]\n",
    "color += [\"black\" for m in metrics]\n",
    "\n",
    "source = []\n",
    "target = []\n",
    "e_color = []\n",
    "for tool_model_edge in tools_models_edges:\n",
    "    source.append(labels.index(tool_model_edge[1]))\n",
    "    target.append(labels.index(tool_model_edge[0]))\n",
    "    e_color.append(tool2color[tool_model_edge[0]])\n",
    "\n",
    "for tool_metric_edge in tools_metrics_edges:\n",
    "    source.append(labels.index(tool_metric_edge[0]))\n",
    "    target.append(labels.index(tool_metric_edge[1]))\n",
    "    e_color.append(tool2color[tool_metric_edge[0]])\n",
    "\n",
    "value = [1 for s in source]\n",
    "\n",
    "fig = go.Figure(\n",
    "    data=[\n",
    "        go.Sankey(\n",
    "            node=dict(\n",
    "                pad=15,\n",
    "                thickness=20,\n",
    "                line=dict(color=\"black\", width=0.5),\n",
    "                label=labels,\n",
    "                color=color,\n",
    "                # x=xs,\n",
    "                # y=ys\n",
    "            ),\n",
    "            link=dict(\n",
    "                source=source,  # indices correspond to labels, eg A1, A2, A1, B1, ...\n",
    "                target=target,\n",
    "                value=value,\n",
    "                color=e_color,\n",
    "            ),\n",
    "        )\n",
    "    ]\n",
    ")\n",
    "\n",
    "fig.update_layout(font_size=24)\n",
    "fig.update_layout(width=1150, height=1000)\n",
    "fig.show()"
   ]
  },
  {
   "cell_type": "code",
   "execution_count": 175,
   "metadata": {},
   "outputs": [],
   "source": [
    "from ngauge import Neuron"
   ]
  },
  {
   "cell_type": "code",
   "execution_count": 185,
   "metadata": {},
   "outputs": [],
   "source": [
    "n = Neuron.from_swc(\n",
    "    \"/Users/thomasathey/Documents/mimlab/mouselight/axon_mapping/mouselight-swcs/swcs-1/AA1087.swc\"\n",
    ")"
   ]
  },
  {
   "cell_type": "code",
   "execution_count": 190,
   "metadata": {},
   "outputs": [
    {
     "name": "stdout",
     "output_type": "stream",
     "text": [
      "1.4080889430451775\n",
      "0.034744588499389974\n",
      "0.016900518965864735\n",
      "0.03365819186590806\n",
      "0.021338873390637995\n"
     ]
    },
    {
     "data": {
      "text/html": [
       "<pre style=\"white-space:pre;overflow-x:auto;line-height:normal;font-family:Menlo,'DejaVu Sans Mono',consolas,'Courier New',monospace\"><span style=\"color: #008080; text-decoration-color: #008080; font-weight: bold\">34</span>\n",
       "</pre>\n"
      ],
      "text/plain": [
       "\u001b[1;36m34\u001b[0m\n"
      ]
     },
     "metadata": {},
     "output_type": "display_data"
    }
   ],
   "source": [
    "for b in n.branches:\n",
    "    print(np.amax(b.path_dist_to_ends()) / 10000)\n",
    "n.total_bif_nodes()"
   ]
  },
  {
   "cell_type": "code",
   "execution_count": null,
   "metadata": {},
   "outputs": [],
   "source": []
  }
 ],
 "metadata": {
  "kernelspec": {
   "display_name": "Python 3.8.10 ('docs_env': venv)",
   "language": "python",
   "name": "python3"
  },
  "language_info": {
   "codemirror_mode": {
    "name": "ipython",
    "version": 3
   },
   "file_extension": ".py",
   "mimetype": "text/x-python",
   "name": "python",
   "nbconvert_exporter": "python",
   "pygments_lexer": "ipython3",
   "version": "3.8.10"
  },
  "orig_nbformat": 4,
  "vscode": {
   "interpreter": {
    "hash": "5dc00d68ff54f8375e99934614da4863299fb9e10af4294c095b7f517546ff26"
   }
  }
 },
 "nbformat": 4,
 "nbformat_minor": 2
}
